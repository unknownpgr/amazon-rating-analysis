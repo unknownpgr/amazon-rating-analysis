{
 "cells": [
  {
   "cell_type": "code",
   "execution_count": 21,
   "metadata": {},
   "outputs": [
    {
     "name": "stdout",
     "output_type": "stream",
     "text": [
      "The autoreload extension is already loaded. To reload it, use:\n",
      "  %reload_ext autoreload\n"
     ]
    }
   ],
   "source": [
    "%load_ext autoreload\n",
    "%autoreload 2\n",
    "from infra.amazondatasetloader import AmazonReviewsDatasetLoader\n",
    "from infra.svdpredictor import SVDRatingPredictor\n",
    "from core.util import task"
   ]
  },
  {
   "cell_type": "code",
   "execution_count": 2,
   "metadata": {},
   "outputs": [
    {
     "name": "stdout",
     "output_type": "stream",
     "text": [
      " ⟍  Amazon review data load\n",
      "   ⟍  Raw data loading\n",
      "   ⟋  Raw data loading \u001b[1m[+6856ms]\u001b[0m\n",
      "   ⟍  Data conversion\n",
      "    |  Loaded 50000 ratings (0.10%) \u001b[1m[+12984ms]\u001b[0m\n",
      "    |  Loaded 100000 ratings (0.20%) \u001b[1m[+3500ms]\u001b[0m\n",
      "    |  Loaded 150000 ratings (0.30%) \u001b[1m[+3425ms]\u001b[0m\n",
      "    |  Loaded 200000 ratings (0.40%) \u001b[1m[+2528ms]\u001b[0m\n",
      "    |  Loaded 250000 ratings (0.50%) \u001b[1m[+1923ms]\u001b[0m\n",
      "    |  Loaded 300000 ratings (0.61%) \u001b[1m[+1667ms]\u001b[0m\n",
      "    |  Loaded 350000 ratings (0.71%) \u001b[1m[+1523ms]\u001b[0m\n",
      "    |  Loaded 400000 ratings (0.81%) \u001b[1m[+1686ms]\u001b[0m\n",
      "    |  Loaded 450000 ratings (0.91%) \u001b[1m[+1523ms]\u001b[0m\n",
      "    |  Loaded 500000 ratings (1.01%) \u001b[1m[+1469ms]\u001b[0m\n",
      "    |  Loaded 550000 ratings (1.11%) \u001b[1m[+1770ms]\u001b[0m\n",
      "    |  Loaded 600000 ratings (1.21%) \u001b[1m[+1451ms]\u001b[0m\n",
      "    |  Loaded 650000 ratings (1.31%) \u001b[1m[+1569ms]\u001b[0m\n",
      "    |  Loaded 700000 ratings (1.41%) \u001b[1m[+1440ms]\u001b[0m\n",
      "    |  Loaded 750000 ratings (1.51%) \u001b[1m[+1466ms]\u001b[0m\n",
      "    |  Loaded 800000 ratings (1.62%) \u001b[1m[+1445ms]\u001b[0m\n",
      "    |  Loaded 850000 ratings (1.72%) \u001b[1m[+1539ms]\u001b[0m\n",
      "    |  Loaded 900000 ratings (1.82%) \u001b[1m[+1508ms]\u001b[0m\n",
      "    |  Loaded 950000 ratings (1.92%) \u001b[1m[+1415ms]\u001b[0m\n",
      "    |  Loaded 1000000 ratings (2.02%) \u001b[1m[+1607ms]\u001b[0m\n",
      "   ⟋  Data conversion \u001b[1m[+47474ms]\u001b[0m\n",
      "   ⟍  Dataset initialization\n",
      "   ⟋  Dataset initialization \u001b[1m[+1180ms]\u001b[0m\n",
      " ⟋  Amazon review data load \u001b[1m[+55511ms]\u001b[0m\n",
      " ⟍  Dataset initialization\n",
      " ⟋  Dataset initialization \u001b[1m[+0ms]\u001b[0m\n",
      " ⟍  Dataset initialization\n",
      " ⟋  Dataset initialization \u001b[1m[+0ms]\u001b[0m\n"
     ]
    }
   ],
   "source": [
    "dataset = AmazonReviewsDatasetLoader().load_dataset()\n",
    "train, test = dataset.split([0.8, 0.2])"
   ]
  },
  {
   "cell_type": "code",
   "execution_count": 25,
   "metadata": {},
   "outputs": [
    {
     "name": "stdout",
     "output_type": "stream",
     "text": [
      " ⟍  Model initialization\n",
      "  |  latent_dim : 2 \u001b[1m[+0ms]\u001b[0m\n",
      "  |  gamma      : 0.05 \u001b[1m[+0ms]\u001b[0m\n",
      " ⟋  Model initialization \u001b[1m[+0ms]\u001b[0m\n"
     ]
    }
   ],
   "source": [
    "history = []\n",
    "model_path = \"model.npz\"\n",
    "predictor = SVDRatingPredictor(latent_dim=2)\n",
    "try:\n",
    "    predictor.load(model_path)\n",
    "except:\n",
    "    pass"
   ]
  },
  {
   "cell_type": "code",
   "execution_count": 23,
   "metadata": {},
   "outputs": [
    {
     "name": "stdout",
     "output_type": "stream",
     "text": [
      " ⟍  Training\n",
      "   ⟍  Epoch 1\n"
     ]
    },
    {
     "name": "stderr",
     "output_type": "stream",
     "text": [
      "/Users/unknownpgr/Desktop/rating/src/infra/svdpredictor.py:46: RuntimeWarning: overflow encountered in multiply\n",
      "  U[u] += gamma * (error * V[i] - lambda_ * U[u])\n",
      "/Users/unknownpgr/Desktop/rating/src/infra/svdpredictor.py:47: RuntimeWarning: overflow encountered in multiply\n",
      "  V[i] += gamma * (error * U[u] - lambda_ * V[i])\n",
      "/Users/unknownpgr/Desktop/rating/src/infra/svdpredictor.py:47: RuntimeWarning: invalid value encountered in subtract\n",
      "  V[i] += gamma * (error * U[u] - lambda_ * V[i])\n",
      "/Users/unknownpgr/Desktop/rating/src/infra/svdpredictor.py:46: RuntimeWarning: invalid value encountered in add\n",
      "  U[u] += gamma * (error * V[i] - lambda_ * U[u])\n"
     ]
    },
    {
     "name": "stdout",
     "output_type": "stream",
     "text": [
      "    |  Training interrupted \u001b[1m[+15347ms]\u001b[0m\n",
      "   ⟋  Epoch 1 \u001b[1m[+15348ms]\u001b[0m\n",
      " ⟋  Training \u001b[1m[+15348ms]\u001b[0m\n"
     ]
    }
   ],
   "source": [
    "with task(\"Training\"):\n",
    "    for i in range(1000):\n",
    "        with task(\"Epoch %d\" % (i + 1)):\n",
    "            try:\n",
    "                predictor.train(train)\n",
    "                train_mse = predictor.evaluate(train)\n",
    "                valid_mse = predictor.evaluate(test)\n",
    "                history.append((train_mse, valid_mse))\n",
    "                task.log(\"Train MSE      : %.4f\" % train_mse)\n",
    "                task.log(\"Validation MSE : %.4f\" % valid_mse)\n",
    "                predictor.save(model_path)\n",
    "            except KeyboardInterrupt:\n",
    "                task.log(\"Training interrupted\")\n",
    "                break"
   ]
  },
  {
   "cell_type": "code",
   "execution_count": null,
   "metadata": {},
   "outputs": [],
   "source": [
    "import matplotlib.pyplot as plt\n",
    "\n",
    "train_mse, valid_mse = zip(*history)\n",
    "plt.plot(valid_mse, label=\"Validation MSE\")\n",
    "plt.legend()\n",
    "plt.show()"
   ]
  }
 ],
 "metadata": {
  "kernelspec": {
   "display_name": ".venv",
   "language": "python",
   "name": "python3"
  },
  "language_info": {
   "codemirror_mode": {
    "name": "ipython",
    "version": 3
   },
   "file_extension": ".py",
   "mimetype": "text/x-python",
   "name": "python",
   "nbconvert_exporter": "python",
   "pygments_lexer": "ipython3",
   "version": "3.12.2"
  }
 },
 "nbformat": 4,
 "nbformat_minor": 2
}
