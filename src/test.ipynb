{
 "cells": [
  {
   "cell_type": "code",
   "execution_count": 1,
   "metadata": {},
   "outputs": [
    {
     "name": "stderr",
     "output_type": "stream",
     "text": [
      "/Users/unknownpgr/Desktop/rating/.venv/lib/python3.12/site-packages/tqdm/auto.py:21: TqdmWarning: IProgress not found. Please update jupyter and ipywidgets. See https://ipywidgets.readthedocs.io/en/stable/user_install.html\n",
      "  from .autonotebook import tqdm as notebook_tqdm\n"
     ]
    }
   ],
   "source": [
    "from infra.amazondatasetloader import AmazonReviewsDatasetLoader\n",
    "from infra.svdpredictor import SVDRatingPredictor\n",
    "from core.util import task"
   ]
  },
  {
   "cell_type": "code",
   "execution_count": 2,
   "metadata": {},
   "outputs": [
    {
     "name": "stdout",
     "output_type": "stream",
     "text": [
      " ⟍  Amazon review data load\n",
      "   ⟍  Raw data loading\n",
      "   ⟋  Raw data loading \u001b[1m[+4911ms]\u001b[0m\n",
      "   ⟍  Data conversion\n",
      "    |  Loaded 50000 ratings (0.10%) \u001b[1m[+8839ms]\u001b[0m\n",
      "    |  Loaded 100000 ratings (0.20%) \u001b[1m[+1778ms]\u001b[0m\n",
      "    |  Loaded 150000 ratings (0.30%) \u001b[1m[+1654ms]\u001b[0m\n",
      "    |  Loaded 200000 ratings (0.40%) \u001b[1m[+1502ms]\u001b[0m\n",
      "    |  Loaded 250000 ratings (0.50%) \u001b[1m[+1491ms]\u001b[0m\n",
      "    |  Loaded 300000 ratings (0.61%) \u001b[1m[+1459ms]\u001b[0m\n",
      "    |  Loaded 350000 ratings (0.71%) \u001b[1m[+1551ms]\u001b[0m\n",
      "    |  Loaded 400000 ratings (0.81%) \u001b[1m[+1484ms]\u001b[0m\n",
      "    |  Loaded 450000 ratings (0.91%) \u001b[1m[+1478ms]\u001b[0m\n",
      "    |  Loaded 500000 ratings (1.01%) \u001b[1m[+1471ms]\u001b[0m\n",
      "    |  Loaded 550000 ratings (1.11%) \u001b[1m[+1477ms]\u001b[0m\n",
      "    |  Loaded 600000 ratings (1.21%) \u001b[1m[+1699ms]\u001b[0m\n",
      "    |  Loaded 650000 ratings (1.31%) \u001b[1m[+1586ms]\u001b[0m\n",
      "    |  Loaded 700000 ratings (1.41%) \u001b[1m[+1476ms]\u001b[0m\n",
      "    |  Loaded 750000 ratings (1.51%) \u001b[1m[+1458ms]\u001b[0m\n",
      "    |  Loaded 800000 ratings (1.62%) \u001b[1m[+1472ms]\u001b[0m\n",
      "    |  Loaded 850000 ratings (1.72%) \u001b[1m[+1473ms]\u001b[0m\n",
      "    |  Loaded 900000 ratings (1.82%) \u001b[1m[+1482ms]\u001b[0m\n",
      "    |  Loaded 950000 ratings (1.92%) \u001b[1m[+1491ms]\u001b[0m\n",
      "    |  Loaded 1000000 ratings (2.02%) \u001b[1m[+1550ms]\u001b[0m\n",
      "   ⟋  Data conversion \u001b[1m[+37908ms]\u001b[0m\n",
      "   ⟍  Dataset initialization\n",
      "   ⟋  Dataset initialization \u001b[1m[+1213ms]\u001b[0m\n",
      " ⟋  Amazon review data load \u001b[1m[+44032ms]\u001b[0m\n",
      " ⟍  Dataset initialization\n",
      " ⟋  Dataset initialization \u001b[1m[+0ms]\u001b[0m\n",
      " ⟍  Dataset initialization\n",
      " ⟋  Dataset initialization \u001b[1m[+0ms]\u001b[0m\n"
     ]
    }
   ],
   "source": [
    "dataset = AmazonReviewsDatasetLoader().load_dataset()\n",
    "train, test = dataset.split([0.8, 0.2])"
   ]
  },
  {
   "cell_type": "code",
   "execution_count": 3,
   "metadata": {},
   "outputs": [],
   "source": [
    "model_path = \"model.npz\"\n",
    "predictor = SVDRatingPredictor(latent_dim=2)\n",
    "try:\n",
    "    predictor.load(model_path)\n",
    "except:\n",
    "    pass"
   ]
  },
  {
   "cell_type": "code",
   "execution_count": 6,
   "metadata": {},
   "outputs": [
    {
     "name": "stdout",
     "output_type": "stream",
     "text": [
      " ⟍  Training\n",
      "   ⟍  Epoch 1\n",
      "    |  Train MSE      : 0.0582 \u001b[1m[+46629ms]\u001b[0m\n",
      "    |  Validation MSE : 22.4801 \u001b[1m[+0ms]\u001b[0m\n",
      "   ⟋  Epoch 1 \u001b[1m[+46638ms]\u001b[0m\n",
      "   ⟍  Epoch 2\n",
      "    |  Train MSE      : 0.0376 \u001b[1m[+46285ms]\u001b[0m\n",
      "    |  Validation MSE : 22.4317 \u001b[1m[+0ms]\u001b[0m\n",
      "   ⟋  Epoch 2 \u001b[1m[+46295ms]\u001b[0m\n",
      "   ⟍  Epoch 3\n",
      "    |  Train MSE      : 0.0262 \u001b[1m[+46247ms]\u001b[0m\n",
      "    |  Validation MSE : 22.3855 \u001b[1m[+0ms]\u001b[0m\n",
      "   ⟋  Epoch 3 \u001b[1m[+46257ms]\u001b[0m\n",
      "   ⟍  Epoch 4\n",
      "    |  Train MSE      : 0.0193 \u001b[1m[+46649ms]\u001b[0m\n",
      "    |  Validation MSE : 22.3422 \u001b[1m[+0ms]\u001b[0m\n",
      "   ⟋  Epoch 4 \u001b[1m[+46658ms]\u001b[0m\n",
      "   ⟍  Epoch 5\n",
      "    |  Train MSE      : 0.0148 \u001b[1m[+47082ms]\u001b[0m\n",
      "    |  Validation MSE : 22.3019 \u001b[1m[+0ms]\u001b[0m\n",
      "   ⟋  Epoch 5 \u001b[1m[+47090ms]\u001b[0m\n",
      "   ⟍  Epoch 6\n",
      "    |  Train MSE      : 0.0117 \u001b[1m[+45505ms]\u001b[0m\n",
      "    |  Validation MSE : 22.2643 \u001b[1m[+0ms]\u001b[0m\n",
      "   ⟋  Epoch 6 \u001b[1m[+45513ms]\u001b[0m\n",
      "   ⟍  Epoch 7\n",
      "    |  Train MSE      : 0.0096 \u001b[1m[+48095ms]\u001b[0m\n",
      "    |  Validation MSE : 22.2291 \u001b[1m[+0ms]\u001b[0m\n",
      "   ⟋  Epoch 7 \u001b[1m[+48178ms]\u001b[0m\n",
      "   ⟍  Epoch 8\n",
      "    |  Train MSE      : 0.0080 \u001b[1m[+46535ms]\u001b[0m\n",
      "    |  Validation MSE : 22.1962 \u001b[1m[+0ms]\u001b[0m\n",
      "   ⟋  Epoch 8 \u001b[1m[+46548ms]\u001b[0m\n",
      "   ⟍  Epoch 9\n",
      "    |  Train MSE      : 0.0067 \u001b[1m[+46232ms]\u001b[0m\n",
      "    |  Validation MSE : 22.1653 \u001b[1m[+0ms]\u001b[0m\n",
      "   ⟋  Epoch 9 \u001b[1m[+46243ms]\u001b[0m\n",
      "   ⟍  Epoch 10\n",
      "    |  Train MSE      : 0.0058 \u001b[1m[+46706ms]\u001b[0m\n",
      "    |  Validation MSE : 22.1362 \u001b[1m[+0ms]\u001b[0m\n",
      "   ⟋  Epoch 10 \u001b[1m[+46714ms]\u001b[0m\n",
      "   ⟍  Epoch 11\n",
      "    |  Train MSE      : 0.0050 \u001b[1m[+46913ms]\u001b[0m\n",
      "    |  Validation MSE : 22.1087 \u001b[1m[+0ms]\u001b[0m\n",
      "   ⟋  Epoch 11 \u001b[1m[+46927ms]\u001b[0m\n",
      "   ⟍  Epoch 12\n"
     ]
    }
   ],
   "source": [
    "history = []\n",
    "with task(\"Training\"):\n",
    "    for i in range(100):\n",
    "        with task(\"Epoch %d\" % (i + 1)):\n",
    "            predictor.train(train)\n",
    "            train_mse = predictor.evaluate(train)\n",
    "            valid_mse = predictor.evaluate(test)\n",
    "            history.append((train_mse, valid_mse))\n",
    "            task.log(\"Train MSE      : %.4f\" % train_mse)\n",
    "            task.log(\"Validation MSE : %.4f\" % valid_mse)\n",
    "            predictor.save(model_path)"
   ]
  },
  {
   "cell_type": "code",
   "execution_count": 5,
   "metadata": {},
   "outputs": [
    {
     "name": "stdout",
     "output_type": "stream",
     "text": [
      "user 0: [-1.04652809  0.80490864]\n",
      "item 0: [ 2.65346336 -0.31309566]\n",
      "dot product: -3.028937345636921\n",
      "\n",
      "user 1: [ 0.74362641 -1.063549  ]\n",
      "item 1: [ 0.29045099 -2.27725463]\n",
      "dot product: 2.6379589076134136\n",
      "\n",
      "user 2: [1.0285957  0.69189767]\n",
      "item 2: [-1.36962934 -1.95434423]\n",
      "dot product: -2.7610010671990617\n",
      "\n",
      "user 3: [ 0.73568616 -1.35040709]\n",
      "item 3: [2.38752618 0.06994849]\n",
      "dot product: 1.6620110203545209\n",
      "\n",
      "user 4: [-0.81480515 -1.58753805]\n",
      "item 4: [-1.49650018 -1.7966944 ]\n",
      "dot product: 4.071676774619571\n",
      "\n",
      "user 5: [1.17128679 1.44798309]\n",
      "item 5: [ 0.52469976 -0.07207382]\n",
      "dot product: 0.51021222362949\n",
      "\n",
      "user 6: [-2.19179421 -0.66126064]\n",
      "item 6: [-0.7067513   1.25494304]\n",
      "dot product: 0.7192089545718356\n",
      "\n",
      "user 7: [0.74235315 1.09083793]\n",
      "item 7: [ 1.4896279  -1.74956485]\n",
      "dot product: -0.8026617448850821\n",
      "\n",
      "user 8: [-0.39464852 -1.62875273]\n",
      "item 8: [0.99781221 2.15928904]\n",
      "dot product: -3.9107330394412205\n",
      "\n",
      "user 9: [ 0.83332036 -0.67391613]\n",
      "item 9: [ 0.42411089 -2.3677278 ]\n",
      "dot product: 1.9490701843183593\n",
      "\n"
     ]
    }
   ],
   "source": [
    "import matplotlib.pyplot as plt\n",
    "\n",
    "train_mse, valid_mse = zip(*history)\n",
    "plt.plot(train_mse, label=\"Train MSE\")\n",
    "plt.plot(valid_mse, label=\"Validation MSE\")\n",
    "plt.legend()\n",
    "plt.show()"
   ]
  }
 ],
 "metadata": {
  "kernelspec": {
   "display_name": ".venv",
   "language": "python",
   "name": "python3"
  },
  "language_info": {
   "codemirror_mode": {
    "name": "ipython",
    "version": 3
   },
   "file_extension": ".py",
   "mimetype": "text/x-python",
   "name": "python",
   "nbconvert_exporter": "python",
   "pygments_lexer": "ipython3",
   "version": "3.12.2"
  }
 },
 "nbformat": 4,
 "nbformat_minor": 2
}
